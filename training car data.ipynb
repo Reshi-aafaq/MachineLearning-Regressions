{
 "cells": [
  {
   "cell_type": "code",
   "execution_count": 1,
   "metadata": {},
   "outputs": [],
   "source": [
    "import numpy as np\n",
    "import pandas as pd\n",
    "from matplotlib import pyplot as plt\n",
    "import seaborn as sns\n",
    "from sklearn.linear_model import LinearRegression\n",
    "from sklearn.model_selection import train_test_split\n",
    "from sklearn.feature_selection import f_regression\n",
    "from sklearn.preprocessing import StandardScaler\n",
    " "
   ]
  },
  {
   "cell_type": "code",
   "execution_count": 2,
   "metadata": {},
   "outputs": [],
   "source": [
    "df=pd.read_csv('Downloads/car data.csv')"
   ]
  },
  {
   "cell_type": "code",
   "execution_count": 3,
   "metadata": {},
   "outputs": [
    {
     "data": {
      "text/html": [
       "<div>\n",
       "<style scoped>\n",
       "    .dataframe tbody tr th:only-of-type {\n",
       "        vertical-align: middle;\n",
       "    }\n",
       "\n",
       "    .dataframe tbody tr th {\n",
       "        vertical-align: top;\n",
       "    }\n",
       "\n",
       "    .dataframe thead th {\n",
       "        text-align: right;\n",
       "    }\n",
       "</style>\n",
       "<table border=\"1\" class=\"dataframe\">\n",
       "  <thead>\n",
       "    <tr style=\"text-align: right;\">\n",
       "      <th></th>\n",
       "      <th>year</th>\n",
       "      <th>selling_price</th>\n",
       "      <th>present_price</th>\n",
       "      <th>kms_driven</th>\n",
       "      <th>owner</th>\n",
       "    </tr>\n",
       "  </thead>\n",
       "  <tbody>\n",
       "    <tr>\n",
       "      <td>year</td>\n",
       "      <td>1.000000</td>\n",
       "      <td>0.236141</td>\n",
       "      <td>-0.047584</td>\n",
       "      <td>-0.524342</td>\n",
       "      <td>-0.182104</td>\n",
       "    </tr>\n",
       "    <tr>\n",
       "      <td>selling_price</td>\n",
       "      <td>0.236141</td>\n",
       "      <td>1.000000</td>\n",
       "      <td>0.878983</td>\n",
       "      <td>0.029187</td>\n",
       "      <td>-0.088344</td>\n",
       "    </tr>\n",
       "    <tr>\n",
       "      <td>present_price</td>\n",
       "      <td>-0.047584</td>\n",
       "      <td>0.878983</td>\n",
       "      <td>1.000000</td>\n",
       "      <td>0.203647</td>\n",
       "      <td>0.008057</td>\n",
       "    </tr>\n",
       "    <tr>\n",
       "      <td>kms_driven</td>\n",
       "      <td>-0.524342</td>\n",
       "      <td>0.029187</td>\n",
       "      <td>0.203647</td>\n",
       "      <td>1.000000</td>\n",
       "      <td>0.089216</td>\n",
       "    </tr>\n",
       "    <tr>\n",
       "      <td>owner</td>\n",
       "      <td>-0.182104</td>\n",
       "      <td>-0.088344</td>\n",
       "      <td>0.008057</td>\n",
       "      <td>0.089216</td>\n",
       "      <td>1.000000</td>\n",
       "    </tr>\n",
       "  </tbody>\n",
       "</table>\n",
       "</div>"
      ],
      "text/plain": [
       "                   year  selling_price  present_price  kms_driven     owner\n",
       "year           1.000000       0.236141      -0.047584   -0.524342 -0.182104\n",
       "selling_price  0.236141       1.000000       0.878983    0.029187 -0.088344\n",
       "present_price -0.047584       0.878983       1.000000    0.203647  0.008057\n",
       "kms_driven    -0.524342       0.029187       0.203647    1.000000  0.089216\n",
       "owner         -0.182104      -0.088344       0.008057    0.089216  1.000000"
      ]
     },
     "execution_count": 3,
     "metadata": {},
     "output_type": "execute_result"
    }
   ],
   "source": [
    "df.columns=[x.lower() for x in df.columns]\n",
    "df.corr()\n",
    "\n"
   ]
  },
  {
   "cell_type": "code",
   "execution_count": 4,
   "metadata": {},
   "outputs": [],
   "source": [
    "nomv=df.dropna(axis=0)\n",
    "#nomv[\"seller_type\"]=nomv[\"seller_type\"].map({\"Individual\":0,\"Dealer\":1})\n",
    "#nomv[\"fuel_type\"] =nomv['fuel_type'].map({\"Petrol\":1,\"Diesel\":0})\n",
    "#nomv[\"transmission\"]=nomv[\"transmission\"].map({\"Manual\":1,\"Automatic\":1})\n",
    "q=nomv[\"selling_price\"].quantile(0.999)\n",
    "dta1=nomv[nomv[\"selling_price\"]<q]\n"
   ]
  },
  {
   "cell_type": "code",
   "execution_count": 5,
   "metadata": {},
   "outputs": [
    {
     "data": {
      "text/plain": [
       "<matplotlib.axes._subplots.AxesSubplot at 0x148d2be3288>"
      ]
     },
     "execution_count": 5,
     "metadata": {},
     "output_type": "execute_result"
    },
    {
     "data": {
      "image/png": "[encoded data removed]",
      "text/plain": [
       "<Figure size 432x288 with 1 Axes>"
      ]
     },
     "metadata": {
      "needs_background": "light"
     },
     "output_type": "display_data"
    }
   ],
   "source": [
    "q2=dta1[\"present_price\"].quantile(0.99)\n",
    "q3=dta1[\"present_price\"].quantile(0.1)\n",
    "dta2=dta1[dta1[\"present_price\"]<q2]\n",
    "dta3=dta2[dta2[\"present_price\"]>q3]\n",
    "sns.distplot(dta3[\"present_price\"])\n"
   ]
  },
  {
   "cell_type": "code",
   "execution_count": 6,
   "metadata": {},
   "outputs": [
    {
     "data": {
      "text/plain": [
       "<matplotlib.axes._subplots.AxesSubplot at 0x148d8673748>"
      ]
     },
     "execution_count": 6,
     "metadata": {},
     "output_type": "execute_result"
    },
    {
     "data": {
      "image/png": "[encoded data removed]",
      "text/plain": [
       "<Figure size 432x288 with 1 Axes>"
      ]
     },
     "metadata": {
      "needs_background": "light"
     },
     "output_type": "display_data"
    }
   ],
   "source": [
    "sns.distplot(df[\"kms_driven\"])"
   ]
  },
  {
   "cell_type": "code",
   "execution_count": 7,
   "metadata": {},
   "outputs": [
    {
     "data": {
      "text/plain": [
       "<matplotlib.axes._subplots.AxesSubplot at 0x148d87e7dc8>"
      ]
     },
     "execution_count": 7,
     "metadata": {},
     "output_type": "execute_result"
    },
    {
     "data": {
      "image/png": "[encoded data removed]",
      "text/plain": [
       "<Figure size 432x288 with 1 Axes>"
      ]
     },
     "metadata": {
      "needs_background": "light"
     },
     "output_type": "display_data"
    }
   ],
   "source": [
    "q4=dta3[\"kms_driven\"].quantile(0.99)\n",
    "dta4=dta3[dta3[\"kms_driven\"]<q4]\n",
    "sns.distplot(dta4[\"kms_driven\"])\n"
   ]
  },
  {
   "cell_type": "code",
   "execution_count": 8,
   "metadata": {},
   "outputs": [],
   "source": [
    "cleaned=dta4"
   ]
  },
  {
   "cell_type": "code",
   "execution_count": 9,
   "metadata": {},
   "outputs": [
    {
     "data": {
      "text/html": [
       "<div>\n",
       "<style scoped>\n",
       "    .dataframe tbody tr th:only-of-type {\n",
       "        vertical-align: middle;\n",
       "    }\n",
       "\n",
       "    .dataframe tbody tr th {\n",
       "        vertical-align: top;\n",
       "    }\n",
       "\n",
       "    .dataframe thead th {\n",
       "        text-align: right;\n",
       "    }\n",
       "</style>\n",
       "<table border=\"1\" class=\"dataframe\">\n",
       "  <thead>\n",
       "    <tr style=\"text-align: right;\">\n",
       "      <th></th>\n",
       "      <th>car_name</th>\n",
       "      <th>year</th>\n",
       "      <th>selling_price</th>\n",
       "      <th>present_price</th>\n",
       "      <th>kms_driven</th>\n",
       "      <th>fuel_type</th>\n",
       "      <th>seller_type</th>\n",
       "      <th>transmission</th>\n",
       "      <th>owner</th>\n",
       "    </tr>\n",
       "  </thead>\n",
       "  <tbody>\n",
       "    <tr>\n",
       "      <td>0</td>\n",
       "      <td>ritz</td>\n",
       "      <td>2014</td>\n",
       "      <td>3.35</td>\n",
       "      <td>5.59</td>\n",
       "      <td>27000</td>\n",
       "      <td>Petrol</td>\n",
       "      <td>Dealer</td>\n",
       "      <td>Manual</td>\n",
       "      <td>0</td>\n",
       "    </tr>\n",
       "    <tr>\n",
       "      <td>1</td>\n",
       "      <td>sx4</td>\n",
       "      <td>2013</td>\n",
       "      <td>4.75</td>\n",
       "      <td>9.54</td>\n",
       "      <td>43000</td>\n",
       "      <td>Diesel</td>\n",
       "      <td>Dealer</td>\n",
       "      <td>Manual</td>\n",
       "      <td>0</td>\n",
       "    </tr>\n",
       "    <tr>\n",
       "      <td>2</td>\n",
       "      <td>ciaz</td>\n",
       "      <td>2017</td>\n",
       "      <td>7.25</td>\n",
       "      <td>9.85</td>\n",
       "      <td>6900</td>\n",
       "      <td>Petrol</td>\n",
       "      <td>Dealer</td>\n",
       "      <td>Manual</td>\n",
       "      <td>0</td>\n",
       "    </tr>\n",
       "    <tr>\n",
       "      <td>3</td>\n",
       "      <td>wagon r</td>\n",
       "      <td>2011</td>\n",
       "      <td>2.85</td>\n",
       "      <td>4.15</td>\n",
       "      <td>5200</td>\n",
       "      <td>Petrol</td>\n",
       "      <td>Dealer</td>\n",
       "      <td>Manual</td>\n",
       "      <td>0</td>\n",
       "    </tr>\n",
       "    <tr>\n",
       "      <td>4</td>\n",
       "      <td>swift</td>\n",
       "      <td>2014</td>\n",
       "      <td>4.60</td>\n",
       "      <td>6.87</td>\n",
       "      <td>42450</td>\n",
       "      <td>Diesel</td>\n",
       "      <td>Dealer</td>\n",
       "      <td>Manual</td>\n",
       "      <td>0</td>\n",
       "    </tr>\n",
       "    <tr>\n",
       "      <td>5</td>\n",
       "      <td>vitara brezza</td>\n",
       "      <td>2018</td>\n",
       "      <td>9.25</td>\n",
       "      <td>9.83</td>\n",
       "      <td>2071</td>\n",
       "      <td>Diesel</td>\n",
       "      <td>Dealer</td>\n",
       "      <td>Manual</td>\n",
       "      <td>0</td>\n",
       "    </tr>\n",
       "    <tr>\n",
       "      <td>6</td>\n",
       "      <td>ciaz</td>\n",
       "      <td>2015</td>\n",
       "      <td>6.75</td>\n",
       "      <td>8.12</td>\n",
       "      <td>18796</td>\n",
       "      <td>Petrol</td>\n",
       "      <td>Dealer</td>\n",
       "      <td>Manual</td>\n",
       "      <td>0</td>\n",
       "    </tr>\n",
       "    <tr>\n",
       "      <td>7</td>\n",
       "      <td>s cross</td>\n",
       "      <td>2015</td>\n",
       "      <td>6.50</td>\n",
       "      <td>8.61</td>\n",
       "      <td>33429</td>\n",
       "      <td>Diesel</td>\n",
       "      <td>Dealer</td>\n",
       "      <td>Manual</td>\n",
       "      <td>0</td>\n",
       "    </tr>\n",
       "    <tr>\n",
       "      <td>8</td>\n",
       "      <td>ciaz</td>\n",
       "      <td>2016</td>\n",
       "      <td>8.75</td>\n",
       "      <td>8.89</td>\n",
       "      <td>20273</td>\n",
       "      <td>Diesel</td>\n",
       "      <td>Dealer</td>\n",
       "      <td>Manual</td>\n",
       "      <td>0</td>\n",
       "    </tr>\n",
       "    <tr>\n",
       "      <td>9</td>\n",
       "      <td>ciaz</td>\n",
       "      <td>2015</td>\n",
       "      <td>7.45</td>\n",
       "      <td>8.92</td>\n",
       "      <td>42367</td>\n",
       "      <td>Diesel</td>\n",
       "      <td>Dealer</td>\n",
       "      <td>Manual</td>\n",
       "      <td>0</td>\n",
       "    </tr>\n",
       "  </tbody>\n",
       "</table>\n",
       "</div>"
      ],
      "text/plain": [
       "        car_name  year  selling_price  present_price  kms_driven fuel_type  \\\n",
       "0           ritz  2014           3.35           5.59       27000    Petrol   \n",
       "1            sx4  2013           4.75           9.54       43000    Diesel   \n",
       "2           ciaz  2017           7.25           9.85        6900    Petrol   \n",
       "3        wagon r  2011           2.85           4.15        5200    Petrol   \n",
       "4          swift  2014           4.60           6.87       42450    Diesel   \n",
       "5  vitara brezza  2018           9.25           9.83        2071    Diesel   \n",
       "6           ciaz  2015           6.75           8.12       18796    Petrol   \n",
       "7        s cross  2015           6.50           8.61       33429    Diesel   \n",
       "8           ciaz  2016           8.75           8.89       20273    Diesel   \n",
       "9           ciaz  2015           7.45           8.92       42367    Diesel   \n",
       "\n",
       "  seller_type transmission  owner  \n",
       "0      Dealer       Manual      0  \n",
       "1      Dealer       Manual      0  \n",
       "2      Dealer       Manual      0  \n",
       "3      Dealer       Manual      0  \n",
       "4      Dealer       Manual      0  \n",
       "5      Dealer       Manual      0  \n",
       "6      Dealer       Manual      0  \n",
       "7      Dealer       Manual      0  \n",
       "8      Dealer       Manual      0  \n",
       "9      Dealer       Manual      0  "
      ]
     },
     "execution_count": 9,
     "metadata": {},
     "output_type": "execute_result"
    }
   ],
   "source": [
    "cleaned.head(10)\n"
   ]
  },
  {
   "cell_type": "code",
   "execution_count": 10,
   "metadata": {},
   "outputs": [],
   "source": [
    "x=cleaned.drop([\"selling_price\",\"car_name\",\"year\"],axis=1)\n",
    "y=cleaned[\"selling_price\"]\n",
    "xdummies=pd.get_dummies(x,drop_first=True)\n",
    "xdummies[\"year\"]=cleaned[\"year\"]\n"
   ]
  },
  {
   "cell_type": "code",
   "execution_count": 11,
   "metadata": {},
   "outputs": [
    {
     "name": "stderr",
     "output_type": "stream",
     "text": [
      "D:\\anacondaaa\\lib\\site-packages\\ipykernel_launcher.py:4: SettingWithCopyWarning: \n",
      "A value is trying to be set on a copy of a slice from a DataFrame.\n",
      "Try using .loc[row_indexer,col_indexer] = value instead\n",
      "\n",
      "See the caveats in the documentation: http://pandas.pydata.org/pandas-docs/stable/user_guide/indexing.html#returning-a-view-versus-a-copy\n",
      "  after removing the cwd from sys.path.\n"
     ]
    }
   ],
   "source": [
    "#scaler=StandardScaler().fit(x)\n",
    "#ind=scaler.fit(x).transform(x)\n",
    "\n",
    "cleaned[\"selling_price\"]=np.log(cleaned[\"selling_price\"])\n",
    "y=cleaned[\"selling_price\"]"
   ]
  },
  {
   "cell_type": "code",
   "execution_count": 12,
   "metadata": {},
   "outputs": [
    {
     "data": {
      "image/png": "[encoded data removed]",
      "text/plain": [
       "<Figure size 288x288 with 2 Axes>"
      ]
     },
     "metadata": {
      "needs_background": "light"
     },
     "output_type": "display_data"
    }
   ],
   "source": [
    "fig,(ax1,ax2)=plt.subplots(nrows=1,ncols=2,figsize=(4,4))\n",
    "ax1.scatter(cleaned[\"selling_price\"],cleaned[\"present_price\"],label=\"yo\")\n",
    "ax1.legend()\n",
    "ax2.scatter(cleaned[\"selling_price\"],cleaned[\"kms_driven\"])\n",
    "plt.show()\n"
   ]
  },
  {
   "cell_type": "code",
   "execution_count": 13,
   "metadata": {},
   "outputs": [],
   "source": [
    "scaler=StandardScaler().fit(xdummies)\n",
    "ind=scaler.fit(xdummies).transform(xdummies)\n"
   ]
  },
  {
   "cell_type": "code",
   "execution_count": 14,
   "metadata": {},
   "outputs": [],
   "source": [
    "xtrain,xtest,ytrain,ytest=train_test_split(ind,y,test_size=0.2,shuffle=False,random_state=42)"
   ]
  },
  {
   "cell_type": "code",
   "execution_count": 15,
   "metadata": {},
   "outputs": [],
   "source": [
    "reg=LinearRegression()\n",
    "mymodel=reg.fit(xtrain,ytrain)\n"
   ]
  },
  {
   "cell_type": "markdown",
   "metadata": {},
   "source": [
    "# statistics of my model"
   ]
  },
  {
   "cell_type": "code",
   "execution_count": 16,
   "metadata": {},
   "outputs": [
    {
     "data": {
      "text/plain": [
       "{'coefficeints': array([ 0.5143377 , -0.05912356, -0.00568283,  0.11966678,  0.03762139,\n",
       "        -0.5609449 ,  0.02301956,  0.28143565]),\n",
       " 'intercept': 1.0969347692544482,\n",
       " 'r_squared': 0.9190627298316814,\n",
       " 'pvalues': array([0.   , 0.015, 0.223, 0.   , 0.   , 0.   , 0.   , 0.   ]),\n",
       " 'adjusted_values': 0.9190627298316814}"
      ]
     },
     "execution_count": 16,
     "metadata": {},
     "output_type": "execute_result"
    }
   ],
   "source": [
    "coefficeints=mymodel.coef_\n",
    "intercept=mymodel.intercept_\n",
    "r_squared=mymodel.score(xtrain,ytrain)\n",
    "p_values=f_regression(xtrain,ytrain)[1].round(3)\n",
    "adj_r2=1-(1-r_squared)*(173-1)/172\n",
    "lst={\"coefficeints\":coefficeints,\"intercept\":intercept,\"r_squared\":r_squared,\"pvalues\":p_values,\"adjusted_values\":adj_r2}\n",
    "lst"
   ]
  },
  {
   "cell_type": "markdown",
   "metadata": {},
   "source": [
    "# plotting my predicted selling_price against the given selling_price"
   ]
  },
  {
   "cell_type": "code",
   "execution_count": 17,
   "metadata": {},
   "outputs": [
    {
     "data": {
      "text/plain": [
       "<matplotlib.collections.PathCollection at 0x148d89c06c8>"
      ]
     },
     "execution_count": 17,
     "metadata": {},
     "output_type": "execute_result"
    },
    {
     "data": {
      "image/png": "[encoded data removed]",
      "text/plain": [
       "<Figure size 432x288 with 1 Axes>"
      ]
     },
     "metadata": {
      "needs_background": "light"
     },
     "output_type": "display_data"
    }
   ],
   "source": [
    "pred=mymodel.predict(xtrain)\n",
    "plt.scatter(pred,ytrain)"
   ]
  },
  {
   "cell_type": "code",
   "execution_count": 18,
   "metadata": {},
   "outputs": [
    {
     "data": {
      "text/html": [
       "<div>\n",
       "<style scoped>\n",
       "    .dataframe tbody tr th:only-of-type {\n",
       "        vertical-align: middle;\n",
       "    }\n",
       "\n",
       "    .dataframe tbody tr th {\n",
       "        vertical-align: top;\n",
       "    }\n",
       "\n",
       "    .dataframe thead th {\n",
       "        text-align: right;\n",
       "    }\n",
       "</style>\n",
       "<table border=\"1\" class=\"dataframe\">\n",
       "  <thead>\n",
       "    <tr style=\"text-align: right;\">\n",
       "      <th></th>\n",
       "      <th>p</th>\n",
       "      <th>y</th>\n",
       "      <th>difference</th>\n",
       "    </tr>\n",
       "  </thead>\n",
       "  <tbody>\n",
       "    <tr>\n",
       "      <td>count</td>\n",
       "      <td>210.000000</td>\n",
       "      <td>210.000000</td>\n",
       "      <td>2.100000e+02</td>\n",
       "    </tr>\n",
       "    <tr>\n",
       "      <td>mean</td>\n",
       "      <td>0.956058</td>\n",
       "      <td>0.956058</td>\n",
       "      <td>-2.648675e-16</td>\n",
       "    </tr>\n",
       "    <tr>\n",
       "      <td>std</td>\n",
       "      <td>1.080562</td>\n",
       "      <td>1.127138</td>\n",
       "      <td>3.206648e-01</td>\n",
       "    </tr>\n",
       "    <tr>\n",
       "      <td>min</td>\n",
       "      <td>-1.592269</td>\n",
       "      <td>-2.302585</td>\n",
       "      <td>-1.652082e+00</td>\n",
       "    </tr>\n",
       "    <tr>\n",
       "      <td>25%</td>\n",
       "      <td>-0.103567</td>\n",
       "      <td>0.060420</td>\n",
       "      <td>-1.932312e-01</td>\n",
       "    </tr>\n",
       "    <tr>\n",
       "      <td>50%</td>\n",
       "      <td>1.280765</td>\n",
       "      <td>1.178655</td>\n",
       "      <td>9.290729e-03</td>\n",
       "    </tr>\n",
       "    <tr>\n",
       "      <td>75%</td>\n",
       "      <td>1.688392</td>\n",
       "      <td>1.764296</td>\n",
       "      <td>2.183490e-01</td>\n",
       "    </tr>\n",
       "    <tr>\n",
       "      <td>max</td>\n",
       "      <td>3.565179</td>\n",
       "      <td>3.135494</td>\n",
       "      <td>9.740860e-01</td>\n",
       "    </tr>\n",
       "  </tbody>\n",
       "</table>\n",
       "</div>"
      ],
      "text/plain": [
       "                p           y    difference\n",
       "count  210.000000  210.000000  2.100000e+02\n",
       "mean     0.956058    0.956058 -2.648675e-16\n",
       "std      1.080562    1.127138  3.206648e-01\n",
       "min     -1.592269   -2.302585 -1.652082e+00\n",
       "25%     -0.103567    0.060420 -1.932312e-01\n",
       "50%      1.280765    1.178655  9.290729e-03\n",
       "75%      1.688392    1.764296  2.183490e-01\n",
       "max      3.565179    3.135494  9.740860e-01"
      ]
     },
     "execution_count": 18,
     "metadata": {},
     "output_type": "execute_result"
    }
   ],
   "source": [
    "pd.options.display.max_rows=900\n",
    "ccc=pd.DataFrame({\"p\":pred,\"y\":ytrain,\"difference\":pred-ytrain})\n",
    "ccc.describe(include=\"all\")"
   ]
  },
  {
   "cell_type": "code",
   "execution_count": 19,
   "metadata": {},
   "outputs": [],
   "source": [
    "#tpred=mymodel.predict(xtest)\n",
    "#plt.scatter(ytest,tpred)"
   ]
  },
  {
   "cell_type": "markdown",
   "metadata": {},
   "source": [
    "# plotting my test data"
   ]
  },
  {
   "cell_type": "code",
   "execution_count": 20,
   "metadata": {},
   "outputs": [],
   "source": [
    "#plt.scatter(ytest,tpred)"
   ]
  },
  {
   "cell_type": "code",
   "execution_count": 21,
   "metadata": {},
   "outputs": [
    {
     "data": {
      "text/plain": [
       "(263, 8)"
      ]
     },
     "execution_count": 21,
     "metadata": {},
     "output_type": "execute_result"
    }
   ],
   "source": [
    "new=nomv.drop([\"selling_price\"],axis=1)\n",
    "xdummies.shape"
   ]
  },
  {
   "cell_type": "code",
   "execution_count": 22,
   "metadata": {},
   "outputs": [
    {
     "data": {
      "text/plain": [
       "0.9253937170052711"
      ]
     },
     "execution_count": 22,
     "metadata": {},
     "output_type": "execute_result"
    }
   ],
   "source": [
    "newmodel=reg.fit(xdummies,y)\n",
    "newmodel.score(xdummies,y)"
   ]
  },
  {
   "cell_type": "code",
   "execution_count": 23,
   "metadata": {},
   "outputs": [],
   "source": [
    "from sklearn import metrics\n",
    "from sklearn.model_selection import cross_validate\n",
    "scoree=cross_validate(newmodel,xdummies,y,cv=15,return_estimator=True)\n"
   ]
  },
  {
   "cell_type": "code",
   "execution_count": 24,
   "metadata": {},
   "outputs": [
    {
     "data": {
      "text/plain": [
       "[-208.56965757424015,\n",
       " array([ 8.24509330e-02, -2.49038236e-06, -4.67721059e-02,  3.03901454e-01,\n",
       "         1.22312260e-01, -1.28153890e+00,  4.92463778e-02,  1.03938490e-01])]"
      ]
     },
     "execution_count": 24,
     "metadata": {},
     "output_type": "execute_result"
    }
   ],
   "source": [
    "dumpred=newmodel.predict(xdummies)\n",
    "1-np.square(dumpred-y).sum()/((y-y.mean())**2).sum()\n",
    "[newmodel.intercept_,\n",
    "newmodel.coef_]"
   ]
  },
  {
   "cell_type": "code",
   "execution_count": 25,
   "metadata": {},
   "outputs": [
    {
     "name": "stdout",
     "output_type": "stream",
     "text": [
      "0.08232781169460662\n",
      "-2.4273667163077235e-06\n",
      "-0.04624982518047321\n",
      "0.3080272438833798\n",
      "0.12300905980772053\n",
      "-1.2822486066233711\n",
      "0.06045877314080012\n",
      "0.10494307827966988\n",
      "0.08081019188060534\n",
      "-2.597329640301739e-06\n",
      "-0.047160093387312786\n",
      "0.09698899090080358\n",
      "-0.09698899090080368\n",
      "-1.3143612090177677\n",
      "0.05293490405841151\n",
      "0.10172015202932204\n",
      "0.08024983124209685\n",
      "-3.816581757417618e-06\n",
      "-0.049458464425679055\n",
      "0.3234982006761155\n",
      "0.13186845150946358\n",
      "-1.3480617113026194\n",
      "0.05648484021048319\n",
      "0.10142121269015787\n",
      "0.08266018360295123\n",
      "-2.8298591571868336e-06\n",
      "-0.03998182105218772\n",
      "0.30611707496853185\n",
      "0.12818883209496187\n",
      "-1.3197726488098662\n",
      "0.04617955444238268\n",
      "0.10882507765448801\n",
      "0.09132605444580993\n",
      "-2.3587869753600903e-06\n",
      "-0.042633897753421766\n",
      "0.2755701321841992\n",
      "0.1133042067046061\n",
      "-1.2281089884541632\n",
      "-0.03648874250147363\n",
      "0.10071317334940974\n",
      "0.08184771178021392\n",
      "-2.227966999469307e-06\n",
      "-0.10785712396543755\n",
      "0.3154625526405815\n",
      "0.13080595275320892\n",
      "-1.3696918442686694\n",
      "0.04643687670232537\n",
      "0.09855155075227418\n",
      "0.08200576576533826\n",
      "-1.8612820295712915e-06\n",
      "-0.01353661667392226\n",
      "0.29373833389924986\n",
      "0.12186803943852101\n",
      "-1.3220128416377068\n",
      "0.04839816521132207\n",
      "0.11248433195842594\n",
      "0.0812496349531086\n",
      "-1.991228352724583e-06\n",
      "-0.06921069775928879\n",
      "0.2995369149030586\n",
      "0.1253297190779882\n",
      "-1.2102363506843108\n",
      "0.047504416478742956\n",
      "0.11128816896014081\n",
      "0.08109938737741376\n",
      "-2.907211492969221e-06\n",
      "0.08880851652117613\n",
      "0.3201980339824166\n",
      "0.12439324081432401\n",
      "-1.17923898472815\n",
      "0.03656302960199359\n",
      "0.09390497827045863\n",
      "0.08169979855857104\n",
      "-2.1209935079082886e-06\n",
      "-0.11347937324184697\n",
      "0.30899522760077425\n",
      "0.12451492257368332\n",
      "-1.2523757252181162\n",
      "0.05509765125250741\n",
      "0.09959001495208546\n",
      "0.08302408581613016\n",
      "-2.5415450135861945e-06\n",
      "-0.04324440027739844\n",
      "0.2936185235543287\n",
      "0.11843227763192342\n",
      "-1.2759292524932617\n",
      "0.07906082281610087\n",
      "0.10448560402138239\n",
      "0.08236139813428991\n",
      "-2.675032732588188e-06\n",
      "-0.05745822840272196\n",
      "0.2933352853653918\n",
      "0.11725372293875544\n",
      "-1.2790195057808433\n",
      "0.039956900956123885\n",
      "0.10272545764715077\n",
      "0.08235811668135583\n",
      "-2.593821067122512e-06\n",
      "-0.045519548535674324\n",
      "0.2995469160633676\n",
      "0.11650224442890596\n",
      "-1.2772322258855169\n",
      "0.05024642989550225\n",
      "0.10266181080210805\n",
      "0.08192178003805518\n",
      "-2.2769152867329803e-06\n",
      "-0.04189821241081283\n",
      "0.30395757925791933\n",
      "0.11500608817318872\n",
      "-1.2736959321729733\n",
      "0.0506663596756559\n",
      "0.10478030697569753\n",
      "0.08338545341580315\n",
      "-2.580455935030901e-06\n",
      "-0.04559263601138973\n",
      "0.3022722483865749\n",
      "0.11517989921428053\n",
      "-1.2705870434486077\n",
      "0.07434497093385652\n",
      "0.10257075634714351\n"
     ]
    }
   ],
   "source": [
    "#print(scoree['score'])\n",
    "li=[]\n",
    "for modee in scoree['estimator']:\n",
    "    for i in modee.coef_:\n",
    "        print(i)\n",
    "        li.append(i)"
   ]
  },
  {
   "cell_type": "code",
   "execution_count": 26,
   "metadata": {},
   "outputs": [
    {
     "data": {
      "text/plain": [
       "array([  0.83095345,   0.02125463,   0.8525307 ,   0.23154445,\n",
       "         0.64697204,   0.72367115,  -5.21112757, -14.19145227,\n",
       "        -2.4603005 ,   0.9245311 ,   0.70166686,   0.76487972,\n",
       "         0.89415045,   0.90504078,   0.90044949])"
      ]
     },
     "execution_count": 26,
     "metadata": {},
     "output_type": "execute_result"
    }
   ],
   "source": [
    "#nval=newmodel.predict(xdummies)\n",
    "scoree['test_score']"
   ]
  },
  {
   "cell_type": "code",
   "execution_count": 27,
   "metadata": {},
   "outputs": [
    {
     "data": {
      "text/plain": [
       "[0.08169979855857104,\n",
       " -2.1209935079082886e-06,\n",
       " -0.11347937324184697,\n",
       " 0.30899522760077425,\n",
       " 0.12451492257368332,\n",
       " -1.2523757252181162,\n",
       " 0.05509765125250741,\n",
       " 0.09959001495208546]"
      ]
     },
     "execution_count": 27,
     "metadata": {},
     "output_type": "execute_result"
    }
   ],
   "source": [
    "#vall=np.exp(nval)\n",
    "li[72:80]\n"
   ]
  },
  {
   "cell_type": "code",
   "execution_count": 28,
   "metadata": {},
   "outputs": [],
   "source": [
    "#newpd=pd.DataFrame(vall,columns=[\"selling_price\"])\n",
    "#newpd.shape"
   ]
  },
  {
   "cell_type": "code",
   "execution_count": 29,
   "metadata": {},
   "outputs": [],
   "source": [
    "#submit=pd.concat([newpd,new],axis=1,ignore_index=True)\n",
    "#nomv.columns"
   ]
  },
  {
   "cell_type": "code",
   "execution_count": 30,
   "metadata": {},
   "outputs": [],
   "source": [
    "#submit.columns=[\"selling_price\",\"car_name\",\"year\",\"present_price\",\"kms_driven\",\"fuel_type\",\"seller_type\",\"transmission\",\"owner\"]"
   ]
  },
  {
   "cell_type": "code",
   "execution_count": 31,
   "metadata": {},
   "outputs": [],
   "source": [
    "#submit=submit.reindex(columns=[\"car_name\",\"year\",\"selling_price\",\"present_price\",\"kms_driven\",\"fuel_type\",\"seller_type\",\"transmission\",\"owner\"])"
   ]
  },
  {
   "cell_type": "code",
   "execution_count": 32,
   "metadata": {},
   "outputs": [
    {
     "data": {
      "text/plain": [
       "'final_submit=submit[[\"car_name\",\"selling_price\"]]\\nfinal_submit=final_submit.dropna(axis=0)\\nfinal_submit.isnull().sum()'"
      ]
     },
     "execution_count": 32,
     "metadata": {},
     "output_type": "execute_result"
    }
   ],
   "source": [
    "#submit.to_csv(\"Car_dekho_linear_reg.csv\")\n",
    "\n",
    "\"\"\"final_submit=submit[[\"car_name\",\"selling_price\"]]\n",
    "final_submit=final_submit.dropna(axis=0)\n",
    "final_submit.isnull().sum()\"\"\""
   ]
  },
  {
   "cell_type": "code",
   "execution_count": 33,
   "metadata": {},
   "outputs": [],
   "source": [
    "#final_submit.to_csv(\"linear_reg_car dekho.csv\")"
   ]
  },
  {
   "cell_type": "code",
   "execution_count": 34,
   "metadata": {},
   "outputs": [],
   "source": [
    "#final_submit.isnull().sum()"
   ]
  },
  {
   "cell_type": "code",
   "execution_count": null,
   "metadata": {},
   "outputs": [],
   "source": []
  },
  {
   "cell_type": "code",
   "execution_count": null,
   "metadata": {},
   "outputs": [],
   "source": []
  }
 ],
 "metadata": {
  "kernelspec": {
   "display_name": "Python 3",
   "language": "python",
   "name": "python3"
  },
  "language_info": {
   "codemirror_mode": {
    "name": "ipython",
    "version": 3
   },
   "file_extension": ".py",
   "mimetype": "text/x-python",
   "name": "python",
   "nbconvert_exporter": "python",
   "pygments_lexer": "ipython3",
   "version": "3.7.4"
  }
 },
 "nbformat": 4,
 "nbformat_minor": 2
}
